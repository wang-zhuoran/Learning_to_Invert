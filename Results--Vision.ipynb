{
 "cells": [
  {
   "cell_type": "code",
   "execution_count": null,
   "id": "7116a0c3",
   "metadata": {},
   "outputs": [],
   "source": [
    "import matplotlib.pyplot as plt\n",
    "import torch\n",
    "import torch.nn as nn\n",
    "from torchvision import models, datasets, transforms\n",
    "import numpy as np\n",
    "from models.vision import LeNetMnist, weights_init, LeNet\n",
    "from utils import label_to_onehot, cross_entropy_for_onehot\n",
    "from tqdm import tqdm\n",
    "from scipy.optimize import linear_sum_assignment\n",
    "import lpips\n",
    "import os"
   ]
  },
  {
   "cell_type": "code",
   "execution_count": null,
   "id": "8ae82259",
   "metadata": {},
   "outputs": [],
   "source": [
    "def mse(gt_data, reconstructed_data):\n",
    "    return ((gt_data - reconstructed_data) ** 2).mean()\n",
    "\n",
    "def mse_after_projection(gt_data, reconstructed_data):\n",
    "    return ((gt_data - torch.clamp(reconstructed_data, min=0, max=1)) ** 2).mean()\n",
    "\n",
    "def psnr(gt_data, reconstructed_data, max_val=1):\n",
    "    reconstructed_data = torch.clamp(reconstructed_data, min=0, max=1)\n",
    "    n = len(gt_data)\n",
    "    mse_loss = ((gt_data.view(n, -1) - reconstructed_data.view(n, -1)) ** 2).mean(1)\n",
    "    return (20 * torch.log10(max_val / torch.sqrt(mse_loss))).mean()\n",
    "\n",
    "loss_fn_vgg = lpips.LPIPS(net='vgg')\n",
    "def lpips_score(gt_data, reconstructed_data, arr=False):\n",
    "    if arr:\n",
    "        return loss_fn_vgg(gt_data, reconstructed_data)\n",
    "    else:\n",
    "        return loss_fn_vgg(gt_data, reconstructed_data).mean()\n",
    "    \n",
    "tt = transforms.ToPILImage()\n",
    "def show_examples(gt_imgs, pred_imgs, loss, leak_mode, num=10, bias=6, name=\"main\"):\n",
    "    rank = torch.argsort(loss)\n",
    "    best_id_list = rank[:num]\n",
    "    worst_id_list = rank[-num:]\n",
    "    torch.manual_seed(0)\n",
    "    random_id_list = torch.randperm(len(rank))[bias:num+bias]\n",
    "\n",
    "    fig, axs = plt.subplots(1, num, figsize=(8, 6 * num))\n",
    "    for j, random_id in enumerate(random_id_list):\n",
    "        axs[j].imshow(tt(gt_imgs[random_id].view(3, 32, 32).cpu()))\n",
    "        axs[j].axis('off')\n",
    "    plt.savefig(f\"checkpoint/our_gt_{name}.pdf\", bbox_inches='tight')\n",
    "    \n",
    "    fig, axs = plt.subplots(1, num, figsize=(8, 6 * num))\n",
    "    for j, random_id in enumerate(random_id_list):\n",
    "        axs[j].imshow(tt(pred_imgs[random_id].view(3, 32, 32).cpu()))\n",
    "        axs[j].axis('off')\n",
    "    plt.savefig(f\"checkpoint/our_{leak_mode}_{name}.pdf\", bbox_inches='tight')\n",
    "    return"
   ]
  },
  {
   "cell_type": "code",
   "execution_count": null,
   "id": "47976866",
   "metadata": {},
   "outputs": [],
   "source": [
    "shared_model = \"LeNet\" \n",
    "name = \"LeNet_batch1\"\n",
    "seed = 0\n",
    "lr = 1e-4\n",
    "epochs = 200\n",
    "model = \"MLP-3000\"\n",
    "batch_size = 256\n",
    "dataset = \"CIFAR10\"\n",
    "leak_mode = None\n",
    "        \n",
    "checkpoint_name = f\"checkpoint/{dataset}_{shared_model}_{model}_{leak_mode}_{lr}_{epochs}_{batch_size}_0_version1.pt\""
   ]
  },
  {
   "cell_type": "code",
   "execution_count": null,
   "id": "89a4fdfa",
   "metadata": {},
   "outputs": [],
   "source": [
    "checkpoint = torch.load(checkpoint_name)\n",
    "reconstructed_data = checkpoint[\"reconstructed_imgs\"].view(-1, 3, 32, 32)\n",
    "gt_data = torch.cat(checkpoint[\"gt_data\"])\n",
    "gt_data = gt_data.view(-1, 3, 32, 32).cpu()\n",
    "res = []\n",
    "for evaluate in [mse_after_projection, psnr, lpips_score]:\n",
    "    res.append(evaluate(gt_data[:len(reconstructed_data)], reconstructed_data).item())\n",
    "mse_arr = ((gt_data - torch.clamp(reconstructed_data, min=0, max=1)).view(len(gt_data), -1) ** 2).mean(1)\n",
    "show_examples(gt_data[:len(reconstructed_data)], reconstructed_data, mse_arr, leak_mode, num=4, bias=0)\n",
    "print(leak_mode, res)"
   ]
  }
 ],
 "metadata": {
  "kernelspec": {
   "display_name": "dfiattack2",
   "language": "python",
   "name": "dfiattack2"
  },
  "language_info": {
   "codemirror_mode": {
    "name": "ipython",
    "version": 3
   },
   "file_extension": ".py",
   "mimetype": "text/x-python",
   "name": "python",
   "nbconvert_exporter": "python",
   "pygments_lexer": "ipython3",
   "version": "3.7.9"
  }
 },
 "nbformat": 4,
 "nbformat_minor": 5
}
